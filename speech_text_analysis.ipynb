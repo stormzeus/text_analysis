{
 "cells": [
  {
   "cell_type": "code",
   "execution_count": 1,
   "metadata": {},
   "outputs": [],
   "source": [
    "#IMPORT ALL THE REQUIRED LIBRARIES\n",
    "\n",
    "import pandas as pd\n",
    "import matplotlib.pyplot as plt\n",
    "import nltk\n",
    "from nltk.corpus import stopwords\n",
    "from textblob import TextBlob\n",
    "import re\n",
    "%matplotlib inline"
   ]
  },
  {
   "cell_type": "code",
   "execution_count": 2,
   "metadata": {},
   "outputs": [
    {
     "name": "stdout",
     "output_type": "stream",
     "text": [
      "['Good morning everyone and thanks for joining us\\n', 'I want to start our call today by looking back\\n', '2016 was a transformative year for us\\n', 'Transformations are difficult, and this one was especially challenging\\n', 'We started 2016 by resetting and focusing on why people use Twitter\\n', \"It's the fastest way to see what's happening, and what everyone is talking about\\n\"]\n"
     ]
    }
   ],
   "source": [
    "#READ THE DATA FILE\n",
    "\n",
    "lines=[]\n",
    "with open(\"data.txt\",'r') as f:\n",
    "    for line in f.readlines():\n",
    "        lines.append(line)\n",
    "    \n",
    "    \n",
    "        \n",
    "print(lines[:6])"
   ]
  },
  {
   "cell_type": "code",
   "execution_count": 3,
   "metadata": {},
   "outputs": [
    {
     "name": "stdout",
     "output_type": "stream",
     "text": [
      "(113, 1)\n"
     ]
    },
    {
     "data": {
      "text/html": [
       "<div>\n",
       "<style scoped>\n",
       "    .dataframe tbody tr th:only-of-type {\n",
       "        vertical-align: middle;\n",
       "    }\n",
       "\n",
       "    .dataframe tbody tr th {\n",
       "        vertical-align: top;\n",
       "    }\n",
       "\n",
       "    .dataframe thead th {\n",
       "        text-align: right;\n",
       "    }\n",
       "</style>\n",
       "<table border=\"1\" class=\"dataframe\">\n",
       "  <thead>\n",
       "    <tr style=\"text-align: right;\">\n",
       "      <th></th>\n",
       "      <th>lines</th>\n",
       "    </tr>\n",
       "  </thead>\n",
       "  <tbody>\n",
       "    <tr>\n",
       "      <th>0</th>\n",
       "      <td>Good morning everyone and thanks for joining us\\n</td>\n",
       "    </tr>\n",
       "    <tr>\n",
       "      <th>1</th>\n",
       "      <td>I want to start our call today by looking back\\n</td>\n",
       "    </tr>\n",
       "    <tr>\n",
       "      <th>2</th>\n",
       "      <td>2016 was a transformative year for us\\n</td>\n",
       "    </tr>\n",
       "    <tr>\n",
       "      <th>3</th>\n",
       "      <td>Transformations are difficult, and this one wa...</td>\n",
       "    </tr>\n",
       "    <tr>\n",
       "      <th>4</th>\n",
       "      <td>We started 2016 by resetting and focusing on w...</td>\n",
       "    </tr>\n",
       "  </tbody>\n",
       "</table>\n",
       "</div>"
      ],
      "text/plain": [
       "                                               lines\n",
       "0  Good morning everyone and thanks for joining us\\n\n",
       "1   I want to start our call today by looking back\\n\n",
       "2            2016 was a transformative year for us\\n\n",
       "3  Transformations are difficult, and this one wa...\n",
       "4  We started 2016 by resetting and focusing on w..."
      ]
     },
     "execution_count": 3,
     "metadata": {},
     "output_type": "execute_result"
    }
   ],
   "source": [
    "# CREATE A DATA FRAME\n",
    "\n",
    "speech = pd.DataFrame(lines,columns=[\"lines\"])\n",
    "print(speech.shape)\n",
    "speech.head()"
   ]
  },
  {
   "cell_type": "code",
   "execution_count": 4,
   "metadata": {},
   "outputs": [
    {
     "data": {
      "text/html": [
       "<div>\n",
       "<style scoped>\n",
       "    .dataframe tbody tr th:only-of-type {\n",
       "        vertical-align: middle;\n",
       "    }\n",
       "\n",
       "    .dataframe tbody tr th {\n",
       "        vertical-align: top;\n",
       "    }\n",
       "\n",
       "    .dataframe thead th {\n",
       "        text-align: right;\n",
       "    }\n",
       "</style>\n",
       "<table border=\"1\" class=\"dataframe\">\n",
       "  <thead>\n",
       "    <tr style=\"text-align: right;\">\n",
       "      <th></th>\n",
       "      <th>lines</th>\n",
       "      <th>cleanup</th>\n",
       "    </tr>\n",
       "  </thead>\n",
       "  <tbody>\n",
       "    <tr>\n",
       "      <th>0</th>\n",
       "      <td>Good morning everyone and thanks for joining us\\n</td>\n",
       "      <td>Good morning everyone thanks joining us</td>\n",
       "    </tr>\n",
       "    <tr>\n",
       "      <th>1</th>\n",
       "      <td>I want to start our call today by looking back\\n</td>\n",
       "      <td>I want start call today looking back</td>\n",
       "    </tr>\n",
       "    <tr>\n",
       "      <th>2</th>\n",
       "      <td>2016 was a transformative year for us\\n</td>\n",
       "      <td>2016 transformative year us</td>\n",
       "    </tr>\n",
       "    <tr>\n",
       "      <th>3</th>\n",
       "      <td>Transformations are difficult, and this one wa...</td>\n",
       "      <td>Transformations difficult, one especially chal...</td>\n",
       "    </tr>\n",
       "    <tr>\n",
       "      <th>4</th>\n",
       "      <td>We started 2016 by resetting and focusing on w...</td>\n",
       "      <td>We started 2016 resetting focusing people use ...</td>\n",
       "    </tr>\n",
       "    <tr>\n",
       "      <th>...</th>\n",
       "      <td>...</td>\n",
       "      <td>...</td>\n",
       "    </tr>\n",
       "    <tr>\n",
       "      <th>108</th>\n",
       "      <td>So in closing, as I said, I've never been more...</td>\n",
       "      <td>So closing, I said, I've never sure value Twit...</td>\n",
       "    </tr>\n",
       "    <tr>\n",
       "      <th>109</th>\n",
       "      <td>People trust us to carry some of the most impo...</td>\n",
       "      <td>People trust us carry important conversations,...</td>\n",
       "    </tr>\n",
       "    <tr>\n",
       "      <th>110</th>\n",
       "      <td>We've proven now that our focus works and we n...</td>\n",
       "      <td>We've proven focus works need apply approach r...</td>\n",
       "    </tr>\n",
       "    <tr>\n",
       "      <th>111</th>\n",
       "      <td>In doing so advances us towards our ultimate g...</td>\n",
       "      <td>In advances us towards ultimate goal building ...</td>\n",
       "    </tr>\n",
       "    <tr>\n",
       "      <th>112</th>\n",
       "      <td>I want to thank you all for your time, your su...</td>\n",
       "      <td>I want thank time, support we'll see Twitter</td>\n",
       "    </tr>\n",
       "  </tbody>\n",
       "</table>\n",
       "<p>113 rows × 2 columns</p>\n",
       "</div>"
      ],
      "text/plain": [
       "                                                 lines  \\\n",
       "0    Good morning everyone and thanks for joining us\\n   \n",
       "1     I want to start our call today by looking back\\n   \n",
       "2              2016 was a transformative year for us\\n   \n",
       "3    Transformations are difficult, and this one wa...   \n",
       "4    We started 2016 by resetting and focusing on w...   \n",
       "..                                                 ...   \n",
       "108  So in closing, as I said, I've never been more...   \n",
       "109  People trust us to carry some of the most impo...   \n",
       "110  We've proven now that our focus works and we n...   \n",
       "111  In doing so advances us towards our ultimate g...   \n",
       "112  I want to thank you all for your time, your su...   \n",
       "\n",
       "                                               cleanup  \n",
       "0              Good morning everyone thanks joining us  \n",
       "1                 I want start call today looking back  \n",
       "2                          2016 transformative year us  \n",
       "3    Transformations difficult, one especially chal...  \n",
       "4    We started 2016 resetting focusing people use ...  \n",
       "..                                                 ...  \n",
       "108  So closing, I said, I've never sure value Twit...  \n",
       "109  People trust us carry important conversations,...  \n",
       "110  We've proven focus works need apply approach r...  \n",
       "111  In advances us towards ultimate goal building ...  \n",
       "112       I want thank time, support we'll see Twitter  \n",
       "\n",
       "[113 rows x 2 columns]"
      ]
     },
     "execution_count": 4,
     "metadata": {},
     "output_type": "execute_result"
    }
   ],
   "source": [
    "# USE STOPWORDS TO REMOVE THE COMMONLY USED WORDS FROM THE DATA\n",
    "\n",
    "stop=stopwords.words('english')\n",
    "speech['cleanup'] = speech['lines'].apply(lambda x: ' '.join([word for word in x.split() if word not in (stop)]))  #remove stop words\n",
    "speech"
   ]
  },
  {
   "cell_type": "code",
   "execution_count": 5,
   "metadata": {},
   "outputs": [
    {
     "name": "stdout",
     "output_type": "stream",
     "text": [
      "0      0.45\n",
      "1      0.00\n",
      "2      0.00\n",
      "3      0.25\n",
      "4      0.00\n",
      "       ... \n",
      "108   -0.25\n",
      "109    0.40\n",
      "110    0.00\n",
      "111    0.00\n",
      "112    0.00\n",
      "Name: sentiment, Length: 113, dtype: float64\n",
      "Maximum and Minimum sentiment scores are:\n",
      "-0.4 0.7\n"
     ]
    }
   ],
   "source": [
    "# GET THE SENTIMENT SCORE OF EACH ROW\n",
    "\n",
    "speech['sentiment'] = speech['cleanup'].map(lambda text: TextBlob(text).sentiment.polarity)\n",
    "print(speech['sentiment'])\n",
    "print(\"Maximum and Minimum sentiment scores are:\")\n",
    "print(speech['sentiment'].min(), speech['sentiment'].max())"
   ]
  },
  {
   "cell_type": "code",
   "execution_count": 6,
   "metadata": {},
   "outputs": [
    {
     "data": {
      "text/plain": [
       "(array([ 2.,  1.,  1., 50., 20., 17.,  8.,  7.,  6.,  1.]),\n",
       " array([-0.4 , -0.29, -0.18, -0.07,  0.04,  0.15,  0.26,  0.37,  0.48,\n",
       "         0.59,  0.7 ]),\n",
       " <a list of 10 Patch objects>)"
      ]
     },
     "execution_count": 6,
     "metadata": {},
     "output_type": "execute_result"
    },
    {
     "data": {
      "image/png": "[encoded data removed]",
      "text/plain": [
       "<Figure size 432x288 with 1 Axes>"
      ]
     },
     "metadata": {
      "needs_background": "light"
     },
     "output_type": "display_data"
    }
   ],
   "source": [
    "# PLOT HISTOGRAM\n",
    "\n",
    "plt.hist(speech['sentiment'])"
   ]
  },
  {
   "cell_type": "code",
   "execution_count": 7,
   "metadata": {},
   "outputs": [
    {
     "data": {
      "text/plain": [
       "0          []\n",
       "1          []\n",
       "2      [2016]\n",
       "3          []\n",
       "4      [2016]\n",
       "        ...  \n",
       "108        []\n",
       "109        []\n",
       "110        []\n",
       "111        []\n",
       "112        []\n",
       "Name: numbers, Length: 113, dtype: object"
      ]
     },
     "execution_count": 7,
     "metadata": {},
     "output_type": "execute_result"
    }
   ],
   "source": [
    "# GET THE NUMBERS IF THEY ARE PRESENT IN EACH ROW\n",
    "\n",
    "speech['numbers']=speech['cleanup'].apply(lambda x:re.findall(\"\\d+\",x)) \n",
    "speech['numbers']"
   ]
  },
  {
   "cell_type": "code",
   "execution_count": 8,
   "metadata": {},
   "outputs": [
    {
     "name": "stdout",
     "output_type": "stream",
     "text": [
      "[['2016'], ['2016'], ['2016'], ['2017'], ['2016'], ['2016'], ['10'], ['10'], ['12', '00'], ['27', '25'], ['28', '25'], ['1'], ['2016', '2015'], ['2016', '2017'], ['35', '40'], ['2016'], ['10'], ['2017'], ['10'], ['11']]\n"
     ]
    }
   ],
   "source": [
    "#STORE THE NUMBERS IN A LIST FOR EASY ACCESS\n",
    "\n",
    "\n",
    "numbers=[]\n",
    "rows=speech.shape[0]\n",
    "for i in range(rows):\n",
    "    if len(speech['numbers'][i])>0:\n",
    "        numbers.append(speech['numbers'][i])\n",
    "        \n",
    "print(numbers)\n",
    "\n"
   ]
  },
  {
   "cell_type": "code",
   "execution_count": 9,
   "metadata": {},
   "outputs": [
    {
     "data": {
      "text/plain": [
       "{'2016': 8,\n",
       " '10': 4,\n",
       " '2017': 3,\n",
       " '25': 2,\n",
       " '12': 1,\n",
       " '00': 1,\n",
       " '27': 1,\n",
       " '28': 1,\n",
       " '1': 1,\n",
       " '2015': 1,\n",
       " '35': 1,\n",
       " '40': 1,\n",
       " '11': 1}"
      ]
     },
     "execution_count": 9,
     "metadata": {},
     "output_type": "execute_result"
    }
   ],
   "source": [
    "# GET THE NUMBER WITH THE MAX OCCURRENCE\n",
    "\n",
    "from collections import defaultdict\n",
    "number_count=defaultdict(int)\n",
    "for i in range(len(numbers)):\n",
    "    if len(numbers[i])>1:\n",
    "        for j in range(len(numbers[i])):\n",
    "            number_count[numbers[i][j]]+=1\n",
    "    else:\n",
    "        number_count[numbers[i][0]]+=1\n",
    "number_count = {k: v for k, v in sorted(number_count.items(), key=lambda item: item[1],reverse=True)}\n",
    "\n",
    "number_count\n",
    "\n",
    "\n"
   ]
  },
  {
   "cell_type": "code",
   "execution_count": 10,
   "metadata": {
    "scrolled": true
   },
   "outputs": [
    {
     "name": "stdout",
     "output_type": "stream",
     "text": [
      "2016 was a transformative year for us\n",
      "\n"
     ]
    },
    {
     "data": {
      "text/plain": [
       "'We started 2016 by resetting and focusing on why people use Twitter\\n'"
      ]
     },
     "execution_count": 10,
     "metadata": {},
     "output_type": "execute_result"
    }
   ],
   "source": [
    "print(speech['lines'].iloc[2])\n",
    "speech['lines'].iloc[4]"
   ]
  }
 ],
 "metadata": {
  "kernelspec": {
   "display_name": "Python 3",
   "language": "python",
   "name": "python3"
  },
  "language_info": {
   "codemirror_mode": {
    "name": "ipython",
    "version": 3
   },
   "file_extension": ".py",
   "mimetype": "text/x-python",
   "name": "python",
   "nbconvert_exporter": "python",
   "pygments_lexer": "ipython3",
   "version": "3.7.7"
  }
 },
 "nbformat": 4,
 "nbformat_minor": 4
}
